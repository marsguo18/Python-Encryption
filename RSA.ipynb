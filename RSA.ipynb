{
 "cells": [
  {
   "cell_type": "markdown",
   "metadata": {},
   "source": [
    "# RSA\n",
    "- RSA是著名的非对称密码：1977年由Ron Rivest、Adi Shamir、Leonard Adleman一起提出来的。RSA就是他们三人姓氏开头字母拼在一起组成的。\n",
    "- 在非对称密码系统（也叫做公钥密码系统）中，加密和解密由一对密钥来完成，分别称为公钥和私钥，公钥可以公开，私钥要保密。<br>"
   ]
  },
  {
   "cell_type": "markdown",
   "metadata": {},
   "source": [
    "## 1. 非对称加密例子\n",
    "如A和B通信：<br>\n",
    "- A和B保护好各自的私钥，公开各自的公钥\n",
    "- A用**B的公钥**加密信息，并将信息发给B。\n",
    "- B用自己的**私钥**解密这个信息。\n",
    "![非对称加密](Images/rsa.png)"
   ]
  },
  {
   "cell_type": "markdown",
   "metadata": {},
   "source": [
    "## 2. 数学基础\n",
    "1. 模运算：两个数相除，取余数。\n",
    "2. 素数：也称为质数。它是一个大于1的自然数，除了**1**和**它自身**外，不能整除其他自然数的数。\n",
    "3. 互为素数（质数）：两个自然数中只有公约数1的,这两个数称为互质数。<br>\n",
    "$gcd(a,b)$表示$a$和$b$的最大公约数。互为素数则：$gcd(a,b)=1$\n",
    "2. 欧拉函数：对正整数n，欧拉函数是小于n的正整数中与n互质的数的数目。如$φ(8)=4$，因为1,3,5,7均和8互质。"
   ]
  },
  {
   "cell_type": "markdown",
   "metadata": {},
   "source": [
    "## 3. RSA加密过程\n",
    "1. 生成两个大素数$p$和$q$。\n",
    "2. 计算乘积$n=p×q$。\n",
    "3. 计算欧拉函数$φ(n)=(p-1)(q-1)$。\n",
    "4. 选择一个随机数$e$满足$1<e<\\phi(n)$，并且$e$和$\\phi(n)$互质，即$gcd(e, \\phi(n))=1$。\n",
    "5. 计算 $ed=1 mod \\phi(n)$<br>\n",
    "（同余：$ed-1$能被$\\phi(n)$整除）即：<br>\n",
    "$ed = k\\phi(n)+1$\n",
    "6. 保密$d$，$p$和$q$，公开$n$和$e$<br>\n",
    "这里的$（n, e）$就是公开的加密密钥。$（n，d）$就是私钥。\n",
    "7. 加密：明文PT -> 密文CT<br>\n",
    "$CT = PT^e mod n$"
   ]
  },
  {
   "cell_type": "markdown",
   "metadata": {},
   "source": [
    "## 4. RSA解密过程\n",
    "8. 解密：密文CT -> 明文PT<br>\n",
    "$PT = CT^d mod n$"
   ]
  },
  {
   "cell_type": "markdown",
   "metadata": {},
   "source": [
    "## 5. RSA的安全性\n",
    "### 对RSA攻击的方法：\n",
    "- 蛮力攻击，即尝试所有可能的密钥。因此e和d的位数越大，就越安全\n",
    "- 致力于将n分解成两个素数因子p和q的乘积。因为知道p和q，就可以由e,p,q求出密钥d。\n",
    "- 但是这是一个艰巨的工作。94年4月，1600台计算机用了8个月的时间，破译了n长度为129个十进制数字的RSA密钥。在实际应用中，n的长度一般都在300位以上。\n",
    "\n",
    "RSA的安全性依赖于大整数分解，而对于大整数的分解需要很大的成本。因为它的安全性，它是第一个既能用于数字加密，也能用于数字签名的算法。"
   ]
  }
 ],
 "metadata": {
  "kernelspec": {
   "display_name": "Python 3",
   "language": "python",
   "name": "python3"
  },
  "language_info": {
   "codemirror_mode": {
    "name": "ipython",
    "version": 3
   },
   "file_extension": ".py",
   "mimetype": "text/x-python",
   "name": "python",
   "nbconvert_exporter": "python",
   "pygments_lexer": "ipython3",
   "version": "3.6.5"
  }
 },
 "nbformat": 4,
 "nbformat_minor": 2
}
