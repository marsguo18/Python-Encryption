{
 "cells": [
  {
   "cell_type": "markdown",
   "metadata": {},
   "source": [
    "# DES\n",
    "- DES是使用最广泛的**对称密码**：数据加密标准（Data Encryption Standard）。<br>\n",
    "- 在对称密码系统（也叫做**私钥密码系统**）中，加密和解密使用**相同的密钥**。<br>\n",
    "<div>\n",
    "    <img align=left src=\"Images/des.png\"/>\n",
    "</div>"
   ]
  },
  {
   "cell_type": "markdown",
   "metadata": {},
   "source": [
    "## 1. DES原理\n",
    "### 1.1 基本工作原理\n",
    "用56位的密钥对64位长的数据块进行16轮加密处理由此得到64位长的密文。\n",
    "### 1.2 基本工作流程\n",
    "<div>\n",
    "    <img align=left src=\"Images/des-encryption-process.png\"/>\n",
    "</div>"
   ]
  }
 ],
 "metadata": {
  "kernelspec": {
   "display_name": "Python 3",
   "language": "python",
   "name": "python3"
  },
  "language_info": {
   "codemirror_mode": {
    "name": "ipython",
    "version": 3
   },
   "file_extension": ".py",
   "mimetype": "text/x-python",
   "name": "python",
   "nbconvert_exporter": "python",
   "pygments_lexer": "ipython3",
   "version": "3.6.5"
  }
 },
 "nbformat": 4,
 "nbformat_minor": 2
}
